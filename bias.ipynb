{
 "cells": [
  {
   "cell_type": "code",
   "execution_count": 9,
   "metadata": {},
   "outputs": [],
   "source": [
    "import numpy as np \n",
    "import lacosmic\n",
    "from glob import glob\n",
    "import os\n",
    "from astropy.io import fits"
   ]
  },
  {
   "cell_type": "code",
   "execution_count": 10,
   "metadata": {},
   "outputs": [],
   "source": [
    "with open('user_input.txt', 'r') as file:\n",
    "    lines = file.readlines()"
   ]
  },
  {
   "cell_type": "code",
   "execution_count": 16,
   "metadata": {},
   "outputs": [],
   "source": [
    "path = lines[0].strip()\n",
    "src = os.path.join(path,lines[3].strip())"
   ]
  },
  {
   "cell_type": "code",
   "execution_count": 32,
   "metadata": {},
   "outputs": [
    {
     "data": {
      "text/plain": [
       "array([[  0,   0, 647, ..., 540, 545, 555],\n",
       "       [548,   0, 637, ..., 558, 560, 555],\n",
       "       [553,   0, 646, ..., 553, 558, 567],\n",
       "       ...,\n",
       "       [551,   0, 646, ..., 536, 551, 545],\n",
       "       [536,   0, 640, ..., 541, 561, 547],\n",
       "       [542,   0, 648, ..., 540, 544, 549]], dtype=uint16)"
      ]
     },
     "execution_count": 32,
     "metadata": {},
     "output_type": "execute_result"
    }
   ],
   "source": [
    "src_data = fits.open(src)[0].data\n",
    "src_data\n"
   ]
  },
  {
   "cell_type": "code",
   "execution_count": 40,
   "metadata": {},
   "outputs": [
    {
     "name": "stdout",
     "output_type": "stream",
     "text": [
      "INFO: Iteration 1: Found 7805 cosmic-ray pixels, Total: 7805 [lacosmic.core]\n"
     ]
    },
    {
     "ename": "ValueError",
     "evalue": "cannot convert float NaN to integer",
     "output_type": "error",
     "traceback": [
      "\u001b[0;31m---------------------------------------------------------------------------\u001b[0m",
      "\u001b[0;31mValueError\u001b[0m                                Traceback (most recent call last)",
      "\u001b[0;32m/tmp/ipykernel_26606/2897165795.py\u001b[0m in \u001b[0;36m<module>\u001b[0;34m\u001b[0m\n\u001b[0;32m----> 1\u001b[0;31m \u001b[0mlacosmic\u001b[0m\u001b[0;34m.\u001b[0m\u001b[0mlacosmic\u001b[0m\u001b[0;34m(\u001b[0m\u001b[0msrc_data\u001b[0m\u001b[0;34m,\u001b[0m \u001b[0mcontrast\u001b[0m\u001b[0;34m=\u001b[0m\u001b[0;36m4\u001b[0m\u001b[0;34m,\u001b[0m \u001b[0mcr_threshold\u001b[0m\u001b[0;34m=\u001b[0m\u001b[0;36m4.5\u001b[0m\u001b[0;34m,\u001b[0m \u001b[0mneighbor_threshold\u001b[0m\u001b[0;34m=\u001b[0m\u001b[0;36m0.3\u001b[0m\u001b[0;34m,\u001b[0m \u001b[0meffective_gain\u001b[0m\u001b[0;34m=\u001b[0m\u001b[0;36m1.22\u001b[0m\u001b[0;34m,\u001b[0m \u001b[0mreadnoise\u001b[0m\u001b[0;34m=\u001b[0m\u001b[0;36m4.8\u001b[0m\u001b[0;34m)\u001b[0m\u001b[0;34m\u001b[0m\u001b[0;34m\u001b[0m\u001b[0m\n\u001b[0m",
      "\u001b[0;32m~/.local/lib/python3.10/site-packages/lacosmic/core.py\u001b[0m in \u001b[0;36mlacosmic\u001b[0;34m(data, contrast, cr_threshold, neighbor_threshold, error, mask, background, effective_gain, readnoise, maxiter, border_mode)\u001b[0m\n\u001b[1;32m    180\u001b[0m                 \u001b[0mclean_data\u001b[0m \u001b[0;34m-=\u001b[0m \u001b[0mbackground\u001b[0m\u001b[0;34m\u001b[0m\u001b[0;34m\u001b[0m\u001b[0m\n\u001b[1;32m    181\u001b[0m             \u001b[0;32mreturn\u001b[0m \u001b[0mclean_data\u001b[0m\u001b[0;34m,\u001b[0m \u001b[0mfinal_crmask\u001b[0m\u001b[0;34m\u001b[0m\u001b[0;34m\u001b[0m\u001b[0m\n\u001b[0;32m--> 182\u001b[0;31m         clean_data = _clean_masked_pixels(clean_data, final_crmask, size=5,\n\u001b[0m\u001b[1;32m    183\u001b[0m                                           exclude_mask=mask)\n\u001b[1;32m    184\u001b[0m \u001b[0;34m\u001b[0m\u001b[0m\n",
      "\u001b[0;32m~/.local/lib/python3.10/site-packages/lacosmic/core.py\u001b[0m in \u001b[0;36m_clean_masked_pixels\u001b[0;34m(data, mask, size, exclude_mask)\u001b[0m\n\u001b[1;32m    212\u001b[0m     \u001b[0mmask_idx\u001b[0m \u001b[0;34m=\u001b[0m \u001b[0mmaskall\u001b[0m\u001b[0;34m.\u001b[0m\u001b[0mnonzero\u001b[0m\u001b[0;34m(\u001b[0m\u001b[0;34m)\u001b[0m\u001b[0;34m\u001b[0m\u001b[0;34m\u001b[0m\u001b[0m\n\u001b[1;32m    213\u001b[0m     \u001b[0mdata_nanmask\u001b[0m \u001b[0;34m=\u001b[0m \u001b[0mdata\u001b[0m\u001b[0;34m.\u001b[0m\u001b[0mcopy\u001b[0m\u001b[0;34m(\u001b[0m\u001b[0;34m)\u001b[0m\u001b[0;34m\u001b[0m\u001b[0;34m\u001b[0m\u001b[0m\n\u001b[0;32m--> 214\u001b[0;31m     \u001b[0mdata_nanmask\u001b[0m\u001b[0;34m[\u001b[0m\u001b[0mmask_idx\u001b[0m\u001b[0;34m]\u001b[0m \u001b[0;34m=\u001b[0m \u001b[0mnp\u001b[0m\u001b[0;34m.\u001b[0m\u001b[0mnan\u001b[0m\u001b[0;34m\u001b[0m\u001b[0;34m\u001b[0m\u001b[0m\n\u001b[0m\u001b[1;32m    215\u001b[0m \u001b[0;34m\u001b[0m\u001b[0m\n\u001b[1;32m    216\u001b[0m     \u001b[0mnexpanded\u001b[0m \u001b[0;34m=\u001b[0m \u001b[0;36m0\u001b[0m\u001b[0;34m\u001b[0m\u001b[0;34m\u001b[0m\u001b[0m\n",
      "\u001b[0;31mValueError\u001b[0m: cannot convert float NaN to integer"
     ]
    }
   ],
   "source": [
    "lacosmic.lacosmic(src_data, contrast=4, cr_threshold=4.5, neighbor_threshold=0.3, effective_gain=1.22, readnoise=4.8)"
   ]
  },
  {
   "cell_type": "code",
   "execution_count": 22,
   "metadata": {},
   "outputs": [
    {
     "name": "stdout",
     "output_type": "stream",
     "text": [
      "============================= test session starts ==============================\n",
      "platform linux -- Python 3.10.12, pytest-6.2.5, py-1.10.0, pluggy-0.13.0\n",
      "\n",
      "Running tests with lacosmic version 1.1.0.\n",
      "Running tests in .local/lib/python3.10/site-packages/lacosmic.\n",
      "\n",
      "Date: 2024-06-09T15:55:19\n",
      "\n",
      "Platform: Linux-6.5.0-35-generic-x86_64-with-glibc2.35\n",
      "\n",
      "Executable: /bin/python\n",
      "\n",
      "Full Python Version: \n",
      "3.10.12 (main, Nov 20 2023, 15:14:05) [GCC 11.4.0]\n",
      "\n",
      "encodings: sys: utf-8, locale: UTF-8, filesystem: utf-8\n",
      "byteorder: little\n",
      "float info: dig: 15, mant_dig: 15\n",
      "\n",
      "Package versions: \n",
      "NumPy: 1.24.4\n",
      "SciPy: 1.11.2\n",
      "Matplotlib: 3.7.2\n",
      "\n",
      "Using Astropy options: remote_data: none.\n",
      "\n",
      "rootdir: /home/srinivas\n",
      "plugins: cov-3.0.0, openfiles-0.5.0, arraydiff-0.5.0, astropy-header-0.2.0, filter-subpackage-0.1.1, doctestplus-0.11.2, remotedata-0.3.3, mock-3.6.1, hypothesis-6.36.0\n",
      "collected 8 items\n",
      "\n",
      "../../../.local/lib/python3.10/site-packages/lacosmic/tests/test_core.py . [ 12%]\n",
      ".......                                                                  [100%]\n",
      "\n",
      "============================== 8 passed in 0.15s ===============================\n"
     ]
    },
    {
     "data": {
      "text/plain": [
       "<ExitCode.OK: 0>"
      ]
     },
     "execution_count": 22,
     "metadata": {},
     "output_type": "execute_result"
    }
   ],
   "source": [
    "lacosmic.test(package=None, test_path=None, args=None, plugins=None, verbose=False, pastebin=None, remote_data=False, pep8=False, pdb=False, coverage=False)"
   ]
  },
  {
   "cell_type": "code",
   "execution_count": null,
   "metadata": {},
   "outputs": [],
   "source": []
  }
 ],
 "metadata": {
  "kernelspec": {
   "display_name": "pyenv",
   "language": "python",
   "name": "python3"
  },
  "language_info": {
   "codemirror_mode": {
    "name": "ipython",
    "version": 3
   },
   "file_extension": ".py",
   "mimetype": "text/x-python",
   "name": "python",
   "nbconvert_exporter": "python",
   "pygments_lexer": "ipython3",
   "version": "3.10.12"
  }
 },
 "nbformat": 4,
 "nbformat_minor": 2
}
