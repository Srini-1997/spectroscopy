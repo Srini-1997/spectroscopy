{
 "cells": [
  {
   "cell_type": "code",
   "execution_count": 1,
   "metadata": {},
   "outputs": [],
   "source": [
    "import numpy as np \n",
    "import os\n",
    "from glob import glob\n",
    "from astropy.io import fits"
   ]
  },
  {
   "cell_type": "code",
   "execution_count": 11,
   "metadata": {},
   "outputs": [
    {
     "name": "stdout",
     "output_type": "stream",
     "text": [
      "You have 3 bias files\n"
     ]
    }
   ],
   "source": [
    "bias_files = sorted(glob(os.path.join('/home/srinivas/Documents/observation_data_copy/Test/source_1','bias*')))\n",
    "print(f\"You have {len(bias_files)} bias files\")"
   ]
  },
  {
   "cell_type": "code",
   "execution_count": 12,
   "metadata": {},
   "outputs": [
    {
     "data": {
      "text/plain": [
       "array([[  0,   0, 633, ..., 540, 530, 532],\n",
       "       [536,   0, 626, ..., 544, 544, 548],\n",
       "       [525,   0, 640, ..., 555, 539, 536],\n",
       "       ...,\n",
       "       [538,   0, 652, ..., 543, 536, 538],\n",
       "       [540,   0, 656, ..., 539, 551, 541],\n",
       "       [551,   0, 646, ..., 548, 540, 540]], dtype=uint16)"
      ]
     },
     "execution_count": 12,
     "metadata": {},
     "output_type": "execute_result"
    }
   ],
   "source": [
    "data = fits.open(bias_files[0])\n",
    "header = data[0].header\n",
    "image = data[0].data\n",
    "nl  = (header['NAXIS1']*header['NAXIS2']*0.1)/len(bias_files)\n",
    "nhigh = (header['NAXIS1']*header['NAXIS2']*0.1)/len(bias_files)\n",
    "image"
   ]
  },
  {
   "cell_type": "code",
   "execution_count": null,
   "metadata": {},
   "outputs": [],
   "source": [
    "for bfiles in bias_files:\n",
    "    data = fits.open(bfiles)\n",
    "    header = data[0].header\n",
    "    image = data[0].data\n",
    "    nl = header['NAXIS1']*header['NAXIS2']"
   ]
  }
 ],
 "metadata": {
  "kernelspec": {
   "display_name": "pyenv",
   "language": "python",
   "name": "python3"
  },
  "language_info": {
   "codemirror_mode": {
    "name": "ipython",
    "version": 3
   },
   "file_extension": ".py",
   "mimetype": "text/x-python",
   "name": "python",
   "nbconvert_exporter": "python",
   "pygments_lexer": "ipython3",
   "version": "3.12.3"
  }
 },
 "nbformat": 4,
 "nbformat_minor": 2
}
