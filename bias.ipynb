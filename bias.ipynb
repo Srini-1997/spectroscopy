{
 "cells": [
  {
   "cell_type": "code",
   "execution_count": 11,
   "metadata": {},
   "outputs": [],
   "source": [
    "import numpy as np \n",
    "import os\n",
    "from glob import glob\n",
    "from astropy.io import fits\n",
    "from tqdm import tqdm\n",
    "import matplotlib.pyplot as plt"
   ]
  },
  {
   "cell_type": "code",
   "execution_count": 12,
   "metadata": {},
   "outputs": [],
   "source": [
    "with open('user_input.txt', 'r') as file:\n",
    "    lines = file.readlines()\n",
    "\n",
    "path = lines[0].strip()\n",
    "mflat = os.path.join(path, 'mflat.fits')\n",
    "data = fits.open(mflat)[0].data\n",
    "header = fits.open(mflat)[0].header\n",
    "xpixels = header['NAXIS1']\n",
    "ypixels = header['NAXIS2']\n",
    "\n",
    "\n",
    "normalised_data = np.mean(data, axis=1)"
   ]
  },
  {
   "cell_type": "code",
   "execution_count": 13,
   "metadata": {},
   "outputs": [],
   "source": [
    "pixels = np.arange(0,ypixels,1)"
   ]
  },
  {
   "cell_type": "code",
   "execution_count": 70,
   "metadata": {},
   "outputs": [
    {
     "data": {
      "text/plain": [
       "[<matplotlib.lines.Line2D at 0x75d1987c1af0>]"
      ]
     },
     "execution_count": 70,
     "metadata": {},
     "output_type": "execute_result"
    },
    {
     "data": {
      "text/plain": [
       "<Figure size 400x400 with 0 Axes>"
      ]
     },
     "metadata": {},
     "output_type": "display_data"
    },
    {
     "data": {
      "image/png": "[encoded data removed]",
      "text/plain": [
       "<Figure size 512x352 with 1 Axes>"
      ]
     },
     "metadata": {},
     "output_type": "display_data"
    }
   ],
   "source": [
    "import matplotlib.pyplot as plt\n",
    "plt.style.use('dark_background')\n",
    "plt.figure(figsize=(5,5))\n",
    "fig, ax = plt.subplots()\n",
    "# Plot some data\n",
    "\n",
    "# Set borders (spines)\n",
    "ax.spines['bottom'].set_color('red')\n",
    "ax.spines['top'].set_color('white') \n",
    "ax.spines['right'].set_color('white')\n",
    "ax.spines['left'].set_color('white')\n",
    "\n",
    "# Erase the grid\n",
    "ax.grid(True, color='grey')\n",
    "\n",
    "plt.plot(pixels, normalised_data, c ='red')\n"
   ]
  },
  {
   "cell_type": "code",
   "execution_count": 55,
   "metadata": {},
   "outputs": [
    {
     "name": "stdout",
     "output_type": "stream",
     "text": [
      "['Solarize_Light2', '_classic_test_patch', '_mpl-gallery', '_mpl-gallery-nogrid', 'bmh', 'classic', 'dark_background', 'fast', 'fivethirtyeight', 'ggplot', 'grayscale', 'seaborn-v0_8', 'seaborn-v0_8-bright', 'seaborn-v0_8-colorblind', 'seaborn-v0_8-dark', 'seaborn-v0_8-dark-palette', 'seaborn-v0_8-darkgrid', 'seaborn-v0_8-deep', 'seaborn-v0_8-muted', 'seaborn-v0_8-notebook', 'seaborn-v0_8-paper', 'seaborn-v0_8-pastel', 'seaborn-v0_8-poster', 'seaborn-v0_8-talk', 'seaborn-v0_8-ticks', 'seaborn-v0_8-white', 'seaborn-v0_8-whitegrid', 'tableau-colorblind10']\n"
     ]
    }
   ],
   "source": [
    "print(plt.style.available)"
   ]
  },
  {
   "cell_type": "code",
   "execution_count": 2,
   "metadata": {},
   "outputs": [
    {
     "name": "stdout",
     "output_type": "stream",
     "text": [
      "Please enter the values for the parameters you want (default values are shown):\n",
      "naverage (default: 1)\n",
      "function (default: spline1)\n",
      "order (default: 2)\n",
      "lreject (default: 3.0)\n",
      "hreject (default: 3.0)\n",
      "iter (default: 5)\n",
      "Invalid input. 'function' parameter should be one of the following: spline1, spline3, chebyshev, legendre\n",
      "naverage (default: 1)\n",
      "function (default: spline1)\n",
      "order (default: 2)\n",
      "lreject (default: 3.0)\n",
      "hreject (default: 3.0)\n",
      "iter (default: 5)\n",
      "Invalid input. 'function' parameter should be one of the following: spline1, spline3, chebyshev, legendre\n",
      "naverage (default: 1)\n",
      "function (default: spline1)\n",
      "order (default: 2)\n",
      "lreject (default: 3.0)\n",
      "hreject (default: 3.0)\n",
      "iter (default: 5)\n",
      "Invalid parameter. Please try again.\n",
      "naverage (default: 1)\n",
      "function (default: spline1)\n",
      "order (default: 2)\n",
      "lreject (default: 3.0)\n",
      "hreject (default: 3.0)\n",
      "iter (default: 5)\n",
      "Invalid parameter. Please try again.\n",
      "naverage (default: 1)\n",
      "function (default: spline1)\n",
      "order (default: 2)\n",
      "lreject (default: 3.0)\n",
      "hreject (default: 3.0)\n",
      "iter (default: 5)\n"
     ]
    }
   ],
   "source": [
    "parameters = {\n",
    "        \"naverage\": 1,\n",
    "        \"function\": \"spline1\",\n",
    "        \"order\": 2,\n",
    "        \"lreject\": 3.0,\n",
    "        \"hreject\": 3.0,\n",
    "        \"iter\": 5\n",
    "    }\n",
    "function_options = [\"spline1\", \"spline3\", \"chebyshev\", \"legendre\"]\n",
    "\n",
    "print(\"Please enter the values for the parameters you want (default values are shown):\")\n",
    "while True:\n",
    "    for param, default in parameters.items():\n",
    "        print(f\"{param} (default: {default})\")\n",
    "    param = input(\"Enter the parameter you want to input (or 'done' to finish): \")\n",
    "    if param.lower() == 'done':\n",
    "        break\n",
    "    if param in parameters:\n",
    "        value = input(f\"{param} (default: {parameters[param]}): \")\n",
    "        if param == 'function':\n",
    "            # Check if the input is one of the four options\n",
    "            if value in function_options:\n",
    "                parameters[param] = value\n",
    "            else:\n",
    "                print(\"Invalid input. 'function' parameter should be one of the following: \" + \", \".join(function_options))\n",
    "        else:\n",
    "            # Check if the input can be converted to a number\n",
    "            try:\n",
    "                value = float(value)\n",
    "                parameters[param] = value\n",
    "            except ValueError:\n",
    "                print(\"Invalid input. This parameter should be a number.\")\n",
    "    else:\n",
    "        print(\"Invalid parameter. Please try again.\")\n"
   ]
  },
  {
   "cell_type": "code",
   "execution_count": 4,
   "metadata": {},
   "outputs": [
    {
     "data": {
      "text/plain": [
       "{'naverage': 1,\n",
       " 'function': 'spline1',\n",
       " 'order': 2,\n",
       " 'lreject': 3.0,\n",
       " 'hreject': 3.0,\n",
       " 'iter': 5}"
      ]
     },
     "execution_count": 4,
     "metadata": {},
     "output_type": "execute_result"
    }
   ],
   "source": [
    "parameters"
   ]
  },
  {
   "cell_type": "code",
   "execution_count": 6,
   "metadata": {},
   "outputs": [
    {
     "data": {
      "text/plain": [
       "1"
      ]
     },
     "execution_count": 6,
     "metadata": {},
     "output_type": "execute_result"
    }
   ],
   "source": [
    "naverage = parameters['naverage']\n",
    "naverage"
   ]
  },
  {
   "cell_type": "code",
   "execution_count": null,
   "metadata": {},
   "outputs": [],
   "source": []
  }
 ],
 "metadata": {
  "kernelspec": {
   "display_name": "pyenv",
   "language": "python",
   "name": "python3"
  },
  "language_info": {
   "codemirror_mode": {
    "name": "ipython",
    "version": 3
   },
   "file_extension": ".py",
   "mimetype": "text/x-python",
   "name": "python",
   "nbconvert_exporter": "python",
   "pygments_lexer": "ipython3",
   "version": "3.12.3"
  }
 },
 "nbformat": 4,
 "nbformat_minor": 2
}
